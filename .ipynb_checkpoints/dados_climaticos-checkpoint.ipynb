{
 "cells": [
  {
   "cell_type": "markdown",
   "id": "d1ec310d",
   "metadata": {},
   "source": [
    "## Importando as Bibliotecas necessárias"
   ]
  },
  {
   "cell_type": "code",
   "execution_count": null,
   "id": "75f8ef45",
   "metadata": {},
   "outputs": [],
   "source": [
    "import asyncio\n",
    "import aiohttp\n",
    "import nest_asyncio\n",
    "import pandas as pd"
   ]
  },
  {
   "cell_type": "markdown",
   "id": "a5cde093",
   "metadata": {},
   "source": [
    "## Estrutura do código\n",
    "### Essa etapa contém algumas modificações, como:\n",
    "### renomeação das colunas;\n",
    "### remoção de algumas colunas que não faziam sentido para o caso;\n",
    "### remoção da cidade terezina, pois não constava dados sobre temperatura."
   ]
  },
  {
   "cell_type": "code",
   "execution_count": null,
   "id": "7a365941",
   "metadata": {},
   "outputs": [],
   "source": [
    "# Permitir execução aninhado de loops de eventos\n",
    "nest_asyncio.apply()\n",
    "\n",
    "# Chave da API\n",
    "api_key = '03142f95f9a513b7520bae4418120159'\n",
    "\n",
    "# listas de estados por região\n",
    "norte = [\"Rio Branco\", \"Amapá\", \"Manaus\", \"Belém\", \"Porto Velho\", \"Boa Vista\", \"Palmas\"]\n",
    "nordeste = [\"Maceió\", \"Salvador\", \"Fortaleza\", \"São Luís\", \"João Pessoa\", \"Recife\", \"Natal\", \"Aracaju\"]\n",
    "centro_oeste = [\"Brasília\", \"Goiânia\", \"Cuiabá\", \"Campo Grande\"]\n",
    "sudeste = [\"Vitória\", \"Belo Horizonte\", \"Rio de Janeiro\", \"São Paulo\"]\n",
    "sul = [\"Curitiba\", \"Porto Alegre\", \"Florianópolis\"]\n",
    "\n",
    "# Lista principal que contém todas as regiões\n",
    "brasil = [norte, nordeste, centro_oeste, sudeste, sul]"
   ]
  },
  {
   "cell_type": "code",
   "execution_count": null,
   "id": "7580f76a",
   "metadata": {},
   "outputs": [],
   "source": [
    "# Função assíncrona para buscar dados do clima\n",
    "async def fetch(session, cidade):\n",
    "    url = f'https://api.openweathermap.org/data/2.5/weather?q={cidade}&appid={api_key}&lang=pt_br&units=metric'\n",
    "    async with session.get(url) as response:\n",
    "        data = await response.json()\n",
    "        if response.status == 200:\n",
    "            result = {\n",
    "                'id': data['id'],\n",
    "                'cidade': cidade,\n",
    "                'longitude': data['coord']['lon'],\n",
    "                'latitude': data['coord']['lat'],\n",
    "                'descrição': data['weather'][0]['description'],\n",
    "                'temperatura': int(data['main']['temp']),\n",
    "                'temperatura_mínima': int(data['main']['temp_min']),\n",
    "                'temperatura_máxima': int(data['main']['temp_max'])\n",
    "            }\n",
    "            return result\n",
    "        else:\n",
    "            return {'cidade': cidade, 'error': data.get('message', 'Erro desconhecido')}"
   ]
  },
  {
   "cell_type": "code",
   "execution_count": null,
   "id": "391ee55a",
   "metadata": {},
   "outputs": [],
   "source": [
    "# Função assíncrona para buscar dados de todas as cidades\n",
    "async def fetch_all(cidades):\n",
    "    async with aiohttp.ClientSession() as session:\n",
    "        tasks = [fetch(session, cidade) for cidade in cidades]\n",
    "        responses = await asyncio.gather(*tasks)\n",
    "        return responses"
   ]
  },
  {
   "cell_type": "code",
   "execution_count": null,
   "id": "b8f03681",
   "metadata": {},
   "outputs": [],
   "source": [
    "# lista principal para obter todas as cidades\n",
    "todas_cidades = [cidade for regiao in brasil for cidade in regiao]\n",
    "    \n",
    "# Executa o loop assíncrono\n",
    "resultados = await fetch_all(todas_cidades)\n",
    "resultados"
   ]
  },
  {
   "cell_type": "code",
   "execution_count": null,
   "id": "edc1c633",
   "metadata": {},
   "outputs": [],
   "source": [
    "# Processa os resultados em um DataFrame do Pandas\n",
    "df = pd.DataFrame(resultados)\n",
    "df"
   ]
  },
  {
   "cell_type": "markdown",
   "id": "74c76feb",
   "metadata": {},
   "source": [
    "## Salvando o resultado num .CSV"
   ]
  },
  {
   "cell_type": "code",
   "execution_count": null,
   "id": "5d64b41e",
   "metadata": {},
   "outputs": [],
   "source": [
    "# Salva o DataFrame em um arquivo CSV\n",
    "df.to_csv('dados_climaticos.csv', index=False, encoding='utf-8')"
   ]
  },
  {
   "cell_type": "code",
   "execution_count": null,
   "id": "eababad2",
   "metadata": {},
   "outputs": [],
   "source": []
  }
 ],
 "metadata": {
  "kernelspec": {
   "display_name": "Python 3 (ipykernel)",
   "language": "python",
   "name": "python3"
  },
  "language_info": {
   "codemirror_mode": {
    "name": "ipython",
    "version": 3
   },
   "file_extension": ".py",
   "mimetype": "text/x-python",
   "name": "python",
   "nbconvert_exporter": "python",
   "pygments_lexer": "ipython3",
   "version": "3.11.5"
  }
 },
 "nbformat": 4,
 "nbformat_minor": 5
}
